{
 "cells": [
  {
   "cell_type": "markdown",
   "id": "71aa2a618f8e0f26",
   "metadata": {
    "collapsed": false
   },
   "source": [
    "# Introduction\n",
    "\n",
    "The solution is adapted from [here](https://www.bnlearn.com/research/sachs05/), and it was initially designed for the Sachs dataset.\n",
    "\n",
    "This set contains simultaneous measurements of 11 proteins and lipids, derived from thousands of individual primary immune system cells. The data is continuous, representing molecule concentrations, so the standard approach is to assume that the concentrations follow a Gaussian distribution. However, a quick analysis on the set, as seen in the appropriate notebook, shows that the distributions are actually different from a normal distributions, most of the components being strongly skewed. The cause of this is that the values represent molecular concentrations, thus rendering very small positive values, clustering around zero. Also, the dependency relationships are not always linear, as can be observed in the relative graphs, as seen also in the notebook associated to the set.\n",
    "\n",
    "After analyzing possible alternatives, such as Gaussian Bayesian Networks (GBNs, which are not appropriate for the given type of data), applying monotone transformations, or hybrid models where prior knowledge on the signalling pathways should be known (available here, but not in all real world situations), the article mentioned before proposes as feasible a two-step solution inspired by the paper associated to the dataset.\n",
    "\n",
    "Sachs et al. decide to discretize the data and model it with a discrete BN, in order to handle skewness, with the disadvantage of losing ordering information. The article suggests discretizing the data in 3 bins, representing 3 levels of concentration (low - medium - high). Also, the discretization method should be information preserving, thus Hartemink is employed. Initially, in order to lose as little information as possible, the data is divided into a large number of levels (in the default case, 60). After this, the algorithm iterates over all pairs of adjacent intervals, computing their pairwise mutual information. I iteratively collapses each pair that yields the minimal information loss into a single interval, recomputing it after each such unification. Taking this mutual information, this type of discretization should better reflect the pre-existent dependency structures, when compared to other, simpler, methods, such as quantile or interval.\n",
    "\n",
    "The second steps consists in averaging the structure learned in multiple graphs, obtaining a more robust final one. The method used for this is applying bootstrap resampling, such that a number (default, 500) of graphs is learned, and then decide on a final one with hill-climbing greedy search from each of the initial ones.\n",
    "\n",
    "For all examples below, two methods are explored: one where Hartemink discretization is applied before the hill climbing greedy search, and another one where the search is performed on the initial dataset, since the synthetic sets have distributions less skewed than the real one."
   ]
  },
  {
   "cell_type": "markdown",
   "id": "143c4e3ae4199eb4",
   "metadata": {
    "collapsed": false
   },
   "source": [
    "# 0. Preliminaries\n",
    "\n",
    "This section includes the required imports. The notebook can be run locally after following the README instructions in the root directory."
   ]
  },
  {
   "cell_type": "code",
   "execution_count": 1,
   "id": "7724b0b3281f4b03",
   "metadata": {
    "ExecuteTime": {
     "end_time": "2024-05-09T13:44:28.431097400Z",
     "start_time": "2024-05-09T13:44:28.406584Z"
    },
    "collapsed": false
   },
   "outputs": [],
   "source": [
    "from data.csuite.csuite_datasets import *\n",
    "from models.bnlearn.bnlearn_models import bnlearn_csuite, bnlearn_sachs"
   ]
  },
  {
   "cell_type": "markdown",
   "id": "b6d06e07956998f5",
   "metadata": {
    "collapsed": false
   },
   "source": [
    "# 1. Observational set (Sachs)\n",
    "\n",
    "The function loads the Sachs set as df and applies the steps described in the introduction.\n",
    "\n",
    "The output will contain the f1 scores, as described in the evaluation notebook, and the estimated conditional probability distributions.\n",
    "\n",
    "The hyperparameters from the initial examples were used, where the discretization starts with 60 bins and goes down to 3. The greedy search is performed using the posterior probability (BGe)."
   ]
  },
  {
   "cell_type": "code",
   "execution_count": 2,
   "id": "061fc1ac-054a-4a7a-85bd-c96766ab27d0",
   "metadata": {},
   "outputs": [
    {
     "name": "stdout",
     "output_type": "stream",
     "text": [
      "~~~~~ WITH DISCRETIZATION ~~~~~\n",
      "Working on the 60th level of discretization.\n",
      "Working on the 50th level of discretization.\n",
      "Working on the 40th level of discretization.\n",
      "Working on the 30th level of discretization.\n",
      "Working on the 20th level of discretization.\n",
      "Working on the 10th level of discretization.\n",
      "{'adjacency_f1': 0.5454545617103577, 'orientation_f1': 0.27272728085517883}\n",
      "\n",
      "\n",
      "\n",
      "~~~~~ WITHOUT DISCRETIZATION ~~~~~\n",
      "{'adjacency_f1': 0.6086956262588501, 'orientation_f1': 0.2608695328235626}\n"
     ]
    }
   ],
   "source": [
    "# With discretization\n",
    "print(\"~~~~~ WITH DISCRETIZATION ~~~~~\")\n",
    "bnlearn_sachs(apply_hartemink_discretization=True)\n",
    "\n",
    "# Without discretization\n",
    "print(\"\\n\\n\\n~~~~~ WITHOUT DISCRETIZATION ~~~~~\")\n",
    "bnlearn_sachs(apply_hartemink_discretization=False)"
   ]
  },
  {
   "cell_type": "markdown",
   "id": "f8cd875e7a4a698b",
   "metadata": {
    "collapsed": false
   },
   "source": [
    "# 2. Synthetic sets (csuite)\n",
    "\n",
    "The function generates a newly and randomly populated df, based on the given graph. The df will contain a custom number of samples (currently set at 2,000).\n",
    "\n",
    "The output will contain the f1 scores computed with the function available in the causica library, and the estimated conditional probability distributions.\n",
    "\n",
    "The hyperparameters from the initial examples were again used: discretization starts with 60 bins and goes down to 3, and the greedy search is performed using the posterior probability (BGe)."
   ]
  },
  {
   "cell_type": "code",
   "execution_count": 2,
   "id": "89f6d250ce5e95d9",
   "metadata": {
    "ExecuteTime": {
     "end_time": "2024-05-09T13:44:28.431097400Z",
     "start_time": "2024-05-09T13:44:28.420979100Z"
    },
    "collapsed": false
   },
   "outputs": [],
   "source": [
    "samples_number = 2000"
   ]
  },
  {
   "cell_type": "code",
   "execution_count": 3,
   "id": "3681a626eb58fc3",
   "metadata": {
    "ExecuteTime": {
     "start_time": "2024-05-09T13:44:28.420979100Z"
    },
    "collapsed": false
   },
   "outputs": [
    {
     "name": "stdout",
     "output_type": "stream",
     "text": [
      "~~~~~ WITH DISCRETIZATION ~~~~~\n",
      "Working on the 60th level of discretization.\n",
      "Working on the 50th level of discretization.\n",
      "Working on the 40th level of discretization.\n",
      "Working on the 30th level of discretization.\n",
      "Working on the 20th level of discretization.\n",
      "Working on the 10th level of discretization.\n",
      "\n",
      "~~~~~~~~~~ RESULTS ~~~~~~~~~~\n",
      "{'adjacency_f1': 1.0, 'orientation_f1': 1.0}\n",
      "\n",
      "\n",
      "~~~~~~~~~~ CPDs ~~~~~~~~~~\n",
      "[LinearGaussianCPD] P(x_0) = N(-0.055, 1.004)\n",
      "[LinearGaussianCPD] P(x_1 | x_0) = N(0.014 + 0.505*x_0, 0.745)\n",
      "\n",
      "\n",
      "\n",
      "~~~~~ WITHOUT DISCRETIZATION ~~~~~\n",
      "\n",
      "~~~~~~~~~~ RESULTS ~~~~~~~~~~\n",
      "{'adjacency_f1': 1.0, 'orientation_f1': 1.0}\n",
      "\n",
      "\n",
      "~~~~~~~~~~ CPDs ~~~~~~~~~~\n",
      "[LinearGaussianCPD] P(x_0) = N(-0.055, 1.004)\n",
      "[LinearGaussianCPD] P(x_1 | x_0) = N(0.014 + 0.505*x_0, 0.745)\n"
     ]
    }
   ],
   "source": [
    "# ~~~~~~~~ LINGAUSS ~~~~~~~~\n",
    "dataset = lingauss\n",
    "# With discretization\n",
    "print(\"~~~~~ WITH DISCRETIZATION ~~~~~\")\n",
    "bnlearn_csuite(\n",
    "    csuite_dataset=dataset,\n",
    "    samples=samples_number,\n",
    "    apply_hartemink_discretization=True,\n",
    "    estimate_cpds=True\n",
    ")\n",
    "\n",
    "# Without discretization\n",
    "print(\"\\n\\n\\n~~~~~ WITHOUT DISCRETIZATION ~~~~~\")\n",
    "bnlearn_csuite(\n",
    "    csuite_dataset=dataset,\n",
    "    samples=samples_number,\n",
    "    apply_hartemink_discretization=False,\n",
    "    estimate_cpds=True\n",
    ")"
   ]
  },
  {
   "cell_type": "code",
   "execution_count": 4,
   "id": "bd6b267825d1a2",
   "metadata": {
    "ExecuteTime": {
     "start_time": "2024-05-09T13:44:43.096873300Z"
    },
    "collapsed": false
   },
   "outputs": [
    {
     "name": "stdout",
     "output_type": "stream",
     "text": [
      "~~~~~ WITH DISCRETIZATION ~~~~~\n",
      "Working on the 60th level of discretization.\n",
      "Working on the 50th level of discretization.\n",
      "Working on the 40th level of discretization.\n",
      "Working on the 30th level of discretization.\n",
      "Working on the 20th level of discretization.\n",
      "Working on the 10th level of discretization.\n",
      "\n",
      "~~~~~~~~~~ RESULTS ~~~~~~~~~~\n",
      "{'adjacency_f1': 1.0, 'orientation_f1': 1.0}\n",
      "\n",
      "\n",
      "~~~~~~~~~~ CPDs ~~~~~~~~~~\n",
      "[LinearGaussianCPD] P(x_0) = N(0.015, 1.054)\n",
      "[LinearGaussianCPD] P(x_1 | x_0) = N(-0.013 + 0.505*x_0, 0.724)\n",
      "\n",
      "\n",
      "\n",
      "~~~~~ WITHOUT DISCRETIZATION ~~~~~\n",
      "\n",
      "~~~~~~~~~~ RESULTS ~~~~~~~~~~\n",
      "{'adjacency_f1': 1.0, 'orientation_f1': 1.0}\n",
      "\n",
      "\n",
      "~~~~~~~~~~ CPDs ~~~~~~~~~~\n",
      "[LinearGaussianCPD] P(x_0) = N(0.015, 1.054)\n",
      "[LinearGaussianCPD] P(x_1 | x_0) = N(-0.013 + 0.505*x_0, 0.724)\n"
     ]
    }
   ],
   "source": [
    "# ~~~~~~~~ LINEXP ~~~~~~~~\n",
    "dataset = linexp\n",
    "# With discretization\n",
    "print(\"~~~~~ WITH DISCRETIZATION ~~~~~\")\n",
    "bnlearn_csuite(\n",
    "    csuite_dataset=dataset,\n",
    "    samples=samples_number,\n",
    "    apply_hartemink_discretization=True,\n",
    "    estimate_cpds=True\n",
    ")\n",
    "\n",
    "# Without discretization\n",
    "print(\"\\n\\n\\n~~~~~ WITHOUT DISCRETIZATION ~~~~~\")\n",
    "bnlearn_csuite(\n",
    "    csuite_dataset=dataset,\n",
    "    samples=samples_number,\n",
    "    apply_hartemink_discretization=False,\n",
    "    estimate_cpds=True\n",
    ")"
   ]
  },
  {
   "cell_type": "code",
   "execution_count": 5,
   "id": "93bd7e94-96a2-4bc6-86b1-e87ac0bf66ae",
   "metadata": {},
   "outputs": [
    {
     "name": "stdout",
     "output_type": "stream",
     "text": [
      "~~~~~ WITH DISCRETIZATION ~~~~~\n",
      "Working on the 60th level of discretization.\n",
      "Working on the 50th level of discretization.\n",
      "Working on the 40th level of discretization.\n",
      "Working on the 30th level of discretization.\n",
      "Working on the 20th level of discretization.\n",
      "Working on the 10th level of discretization.\n",
      "\n",
      "~~~~~~~~~~ RESULTS ~~~~~~~~~~\n",
      "{'adjacency_f1': 1.0, 'orientation_f1': 1.0}\n",
      "\n",
      "\n",
      "~~~~~~~~~~ CPDs ~~~~~~~~~~\n",
      "[LinearGaussianCPD] P(x_0) = N(-0.055, 1.004)\n",
      "[LinearGaussianCPD] P(x_1 | x_0) = N(1.438 + 0.076*x_0, 0.996)\n",
      "\n",
      "\n",
      "\n",
      "~~~~~ WITHOUT DISCRETIZATION ~~~~~\n",
      "\n",
      "~~~~~~~~~~ RESULTS ~~~~~~~~~~\n",
      "{'adjacency_f1': 1.0, 'orientation_f1': 1.0}\n",
      "\n",
      "\n",
      "~~~~~~~~~~ CPDs ~~~~~~~~~~\n",
      "[LinearGaussianCPD] P(x_0) = N(-0.055, 1.004)\n",
      "[LinearGaussianCPD] P(x_1 | x_0) = N(1.438 + 0.076*x_0, 0.996)\n"
     ]
    }
   ],
   "source": [
    "# ~~~~~~~~ NONLINGAUSS ~~~~~~~~\n",
    "dataset = nonlingauss\n",
    "# With discretization\n",
    "print(\"~~~~~ WITH DISCRETIZATION ~~~~~\")\n",
    "bnlearn_csuite(\n",
    "    csuite_dataset=dataset,\n",
    "    samples=samples_number,\n",
    "    apply_hartemink_discretization=True,\n",
    "    estimate_cpds=True\n",
    ")\n",
    "\n",
    "# Without discretization\n",
    "print(\"\\n\\n\\n~~~~~ WITHOUT DISCRETIZATION ~~~~~\")\n",
    "bnlearn_csuite(\n",
    "    csuite_dataset=dataset,\n",
    "    samples=samples_number,\n",
    "    apply_hartemink_discretization=False,\n",
    "    estimate_cpds=True\n",
    ")"
   ]
  },
  {
   "cell_type": "code",
   "execution_count": 6,
   "id": "8ddded48-fc87-45d2-b515-e7dace281e55",
   "metadata": {},
   "outputs": [
    {
     "name": "stdout",
     "output_type": "stream",
     "text": [
      "~~~~~ WITH DISCRETIZATION ~~~~~\n",
      "Working on the 60th level of discretization.\n",
      "Working on the 50th level of discretization.\n",
      "Working on the 40th level of discretization.\n",
      "Working on the 30th level of discretization.\n",
      "Working on the 20th level of discretization.\n",
      "Working on the 10th level of discretization.\n",
      "\n",
      "~~~~~~~~~~ RESULTS ~~~~~~~~~~\n",
      "{'adjacency_f1': 0.888888955116272, 'orientation_f1': 0.888888955116272}\n",
      "\n",
      "\n",
      "~~~~~~~~~~ CPDs ~~~~~~~~~~\n",
      "[LinearGaussianCPD] P(x_0) = N(-0.055, 1.004)\n",
      "[LinearGaussianCPD] P(x_1 | x_0) = N(-0.092 + -0.711*x_0, 0.039)\n",
      "[LinearGaussianCPD] P(x_2 | x_1, x_0) = N(-1.051 + 1.036*x_1 + 1.578*x_0, 0.458)\n",
      "[LinearGaussianCPD] P(x_3 | x_0, x_2) = N(-0.302 + 0.003*x_0 + 0.426*x_2, 0.037)\n",
      "\n",
      "\n",
      "\n",
      "~~~~~ WITHOUT DISCRETIZATION ~~~~~\n",
      "\n",
      "~~~~~~~~~~ RESULTS ~~~~~~~~~~\n",
      "{'adjacency_f1': 0.800000011920929, 'orientation_f1': 0.6000000238418579}\n",
      "\n",
      "\n",
      "~~~~~~~~~~ CPDs ~~~~~~~~~~\n",
      "[LinearGaussianCPD] P(x_0 | x_1) = N(-0.124 + -1.307*x_1, 0.071)\n",
      "[LinearGaussianCPD] P(x_1) = N(-0.053, 0.546)\n",
      "[LinearGaussianCPD] P(x_2 | x_1, x_0) = N(-1.051 + 1.036*x_1 + 1.578*x_0, 0.458)\n",
      "[LinearGaussianCPD] P(x_3 | x_0, x_1, x_2) = N(-0.302 + 0.262*x_0 + 0.333*x_1 + 0.399*x_2, 0.033)\n"
     ]
    }
   ],
   "source": [
    "# ~~~~~~~~ NONLIN SIMPSON ~~~~~~~~\n",
    "dataset = nonlin_simpson\n",
    "# With discretization\n",
    "print(\"~~~~~ WITH DISCRETIZATION ~~~~~\")\n",
    "bnlearn_csuite(\n",
    "    csuite_dataset=dataset,\n",
    "    samples=samples_number,\n",
    "    apply_hartemink_discretization=True,\n",
    "    estimate_cpds=True\n",
    ")\n",
    "\n",
    "# Without discretization\n",
    "print(\"\\n\\n\\n~~~~~ WITHOUT DISCRETIZATION ~~~~~\")\n",
    "bnlearn_csuite(\n",
    "    csuite_dataset=dataset,\n",
    "    samples=samples_number,\n",
    "    apply_hartemink_discretization=False,\n",
    "    estimate_cpds=True\n",
    ")"
   ]
  },
  {
   "cell_type": "code",
   "execution_count": 7,
   "id": "14a46352-af50-4527-a39c-8e6e1ecb77f4",
   "metadata": {},
   "outputs": [
    {
     "name": "stdout",
     "output_type": "stream",
     "text": [
      "~~~~~ WITH DISCRETIZATION ~~~~~\n",
      "Working on the 60th level of discretization.\n",
      "Working on the 50th level of discretization.\n",
      "Working on the 40th level of discretization.\n",
      "Working on the 30th level of discretization.\n",
      "Working on the 20th level of discretization.\n",
      "Working on the 10th level of discretization.\n",
      "\n",
      "~~~~~~~~~~ RESULTS ~~~~~~~~~~\n",
      "{'adjacency_f1': 0.75, 'orientation_f1': 0.5}\n",
      "\n",
      "\n",
      "~~~~~~~~~~ CPDs ~~~~~~~~~~\n",
      "[LinearGaussianCPD] P(x_0) = N(-0.055, 1.004)\n",
      "[LinearGaussianCPD] P(x_1 | x_3, x_2, x_0) = N(0.016 + 1.026*x_3 + 0.007*x_2 + 0.742*x_0, 0.275)\n",
      "[LinearGaussianCPD] P(x_2) = N(0.739, 0.874)\n",
      "[LinearGaussianCPD] P(x_3 | x_0) = N(0.004 + 0.687*x_0, 0.156)\n",
      "\n",
      "\n",
      "\n",
      "~~~~~ WITHOUT DISCRETIZATION ~~~~~\n",
      "\n",
      "~~~~~~~~~~ RESULTS ~~~~~~~~~~\n",
      "{'adjacency_f1': 0.75, 'orientation_f1': 0.25}\n",
      "\n",
      "\n",
      "~~~~~~~~~~ CPDs ~~~~~~~~~~\n",
      "[LinearGaussianCPD] P(x_0 | x_3, x_1) = N(-0.022 + 0.270*x_3 + 0.448*x_1, 0.166)\n",
      "[LinearGaussianCPD] P(x_1 | x_3) = N(0.008 + 1.838*x_3, 0.411)\n",
      "[LinearGaussianCPD] P(x_2 | x_0) = N(0.735 + -0.077*x_0, 0.869)\n",
      "[LinearGaussianCPD] P(x_3) = N(-0.033, 0.631)\n"
     ]
    }
   ],
   "source": [
    "# ~~~~~~~~ SYMPROD SIMPSON ~~~~~~~~\n",
    "dataset = symprod_simpson\n",
    "# With discretization\n",
    "print(\"~~~~~ WITH DISCRETIZATION ~~~~~\")\n",
    "bnlearn_csuite(\n",
    "    csuite_dataset=dataset,\n",
    "    samples=samples_number,\n",
    "    apply_hartemink_discretization=True,\n",
    "    estimate_cpds=True\n",
    ")\n",
    "\n",
    "# Without discretization\n",
    "print(\"\\n\\n\\n~~~~~ WITHOUT DISCRETIZATION ~~~~~\")\n",
    "bnlearn_csuite(\n",
    "    csuite_dataset=dataset,\n",
    "    samples=samples_number,\n",
    "    apply_hartemink_discretization=False,\n",
    "    estimate_cpds=True\n",
    ")"
   ]
  },
  {
   "cell_type": "code",
   "execution_count": 8,
   "id": "93bdb52c-1e02-4445-905d-a198605f2423",
   "metadata": {},
   "outputs": [
    {
     "name": "stdout",
     "output_type": "stream",
     "text": [
      "~~~~~ WITH DISCRETIZATION ~~~~~\n",
      "Working on the 60th level of discretization.\n",
      "Working on the 50th level of discretization.\n",
      "Working on the 40th level of discretization.\n",
      "Working on the 30th level of discretization.\n",
      "Working on the 20th level of discretization.\n",
      "Working on the 10th level of discretization.\n",
      "\n",
      "~~~~~~~~~~ RESULTS ~~~~~~~~~~\n",
      "{'adjacency_f1': 0.692307710647583, 'orientation_f1': 0.615384578704834}\n",
      "\n",
      "\n",
      "~~~~~~~~~~ CPDs ~~~~~~~~~~\n",
      "[LinearGaussianCPD] P(x_0 | x_3) = N(0.711 + 0.694*x_3, 0.391)\n",
      "[LinearGaussianCPD] P(x_1 | x_3, x_0) = N(-0.827 + 0.126*x_3 + 1.097*x_0, 0.069)\n",
      "[LinearGaussianCPD] P(x_2 | x_1, x_3, x_0) = N(-0.356 + 0.110*x_1 + 0.058*x_3 + 0.629*x_0, 0.393)\n",
      "[LinearGaussianCPD] P(x_3) = N(-1.084, 1.025)\n",
      "[LinearGaussianCPD] P(x_4 | x_1, x_2) = N(-0.474 + 0.033*x_1 + 0.686*x_2, 0.394)\n",
      "[LinearGaussianCPD] P(x_5 | x_1, x_2, x_3) = N(-0.497 + 0.061*x_1 + -0.028*x_2 + 0.570*x_3, 0.421)\n",
      "[LinearGaussianCPD] P(x_6 | x_2, x_4) = N(-0.540 + -0.012*x_2 + 0.618*x_4, 0.409)\n",
      "[LinearGaussianCPD] P(x_7 | x_3, x_5) = N(1.077 + 0.051*x_3 + 0.831*x_5, 0.128)\n",
      "[LinearGaussianCPD] P(x_8 | x_7, x_6) = N(0.671 + -0.262*x_7 + 0.326*x_6, 0.751)\n",
      "\n",
      "\n",
      "\n",
      "~~~~~ WITHOUT DISCRETIZATION ~~~~~\n",
      "\n",
      "~~~~~~~~~~ RESULTS ~~~~~~~~~~\n",
      "{'adjacency_f1': 0.9000000357627869, 'orientation_f1': 0.9000000357627869}\n",
      "\n",
      "\n",
      "~~~~~~~~~~ CPDs ~~~~~~~~~~\n",
      "[LinearGaussianCPD] P(x_0) = N(-0.040, 0.884)\n",
      "[LinearGaussianCPD] P(x_1 | x_6, x_0) = N(-0.928 + 0.029*x_6 + 1.188*x_0, 0.076)\n",
      "[LinearGaussianCPD] P(x_2 | x_0) = N(-0.522 + 0.807*x_0, 0.396)\n",
      "[LinearGaussianCPD] P(x_3 | x_1) = N(-0.402 + 0.676*x_1, 0.411)\n",
      "[LinearGaussianCPD] P(x_4 | x_2) = N(-0.491 + 0.716*x_2, 0.395)\n",
      "[LinearGaussianCPD] P(x_5 | x_3) = N(-0.502 + 0.607*x_3, 0.422)\n",
      "[LinearGaussianCPD] P(x_6 | x_4) = N(-0.542 + 0.608*x_4, 0.409)\n",
      "[LinearGaussianCPD] P(x_7 | x_1, x_5) = N(1.074 + 0.040*x_1 + 0.842*x_5, 0.128)\n",
      "[LinearGaussianCPD] P(x_8 | x_7, x_6) = N(0.671 + -0.262*x_7 + 0.326*x_6, 0.751)\n"
     ]
    }
   ],
   "source": [
    "# ~~~~~~~~ LARGE BACKDOOR ~~~~~~~~\n",
    "dataset = large_backdoor\n",
    "# With discretization\n",
    "print(\"~~~~~ WITH DISCRETIZATION ~~~~~\")\n",
    "bnlearn_csuite(\n",
    "    csuite_dataset=dataset,\n",
    "    samples=samples_number,\n",
    "    apply_hartemink_discretization=True,\n",
    "    estimate_cpds=True\n",
    ")\n",
    "\n",
    "# Without discretization\n",
    "print(\"\\n\\n\\n~~~~~ WITHOUT DISCRETIZATION ~~~~~\")\n",
    "bnlearn_csuite(\n",
    "    csuite_dataset=dataset,\n",
    "    samples=samples_number,\n",
    "    apply_hartemink_discretization=False,\n",
    "    estimate_cpds=True\n",
    ")"
   ]
  },
  {
   "cell_type": "code",
   "execution_count": 9,
   "id": "f92f7331-c1c4-4496-8c35-3af47c8508db",
   "metadata": {},
   "outputs": [
    {
     "name": "stdout",
     "output_type": "stream",
     "text": [
      "~~~~~ WITH DISCRETIZATION ~~~~~\n",
      "Working on the 60th level of discretization.\n",
      "Working on the 50th level of discretization.\n",
      "Working on the 40th level of discretization.\n",
      "Working on the 30th level of discretization.\n",
      "Working on the 20th level of discretization.\n",
      "Working on the 10th level of discretization.\n",
      "\n",
      "~~~~~~~~~~ RESULTS ~~~~~~~~~~\n",
      "{'adjacency_f1': 0.7058823704719543, 'orientation_f1': 0.1764705926179886}\n",
      "\n",
      "\n",
      "~~~~~~~~~~ CPDs ~~~~~~~~~~\n",
      "[LinearGaussianCPD] P(x_0 | x_5, x_1, x_2) = N(0.104 + 0.016*x_5 + 0.386*x_1 + -0.581*x_2, 0.347)\n",
      "[LinearGaussianCPD] P(x_1 | x_5, x_3) = N(-0.283 + 0.039*x_5 + -0.762*x_3, 0.353)\n",
      "[LinearGaussianCPD] P(x_2 | x_8, x_1) = N(-0.469 + 0.152*x_8 + -0.323*x_1, 0.644)\n",
      "[LinearGaussianCPD] P(x_3 | x_8, x_7) = N(-0.267 + 0.044*x_8 + 0.620*x_7, 0.487)\n",
      "[LinearGaussianCPD] P(x_4 | x_7, x_8, x_2) = N(-0.710 + -0.165*x_7 + 0.215*x_8 + 0.659*x_2, 0.365)\n",
      "[LinearGaussianCPD] P(x_5 | x_3, x_7) = N(-0.952 + 0.175*x_3 + 0.751*x_7, 0.083)\n",
      "[LinearGaussianCPD] P(x_6 | x_0, x_5, x_8, x_4) = N(-0.931 + -0.007*x_0 + -0.148*x_5 + 0.213*x_8 + 0.571*x_4, 0.372)\n",
      "[LinearGaussianCPD] P(x_7 | x_8) = N(-0.108 + 0.646*x_8, 0.681)\n",
      "[LinearGaussianCPD] P(x_8) = N(1.374, 1.154)\n",
      "\n",
      "\n",
      "\n",
      "~~~~~ WITHOUT DISCRETIZATION ~~~~~\n",
      "\n",
      "~~~~~~~~~~ RESULTS ~~~~~~~~~~\n",
      "{'adjacency_f1': 0.8275862336158752, 'orientation_f1': 0.7586206793785095}\n",
      "\n",
      "\n",
      "~~~~~~~~~~ CPDs ~~~~~~~~~~\n",
      "[LinearGaussianCPD] P(x_0 | x_4, x_2) = N(-0.036 + 0.142*x_4 + -0.838*x_2, 0.443)\n",
      "[LinearGaussianCPD] P(x_1 | x_0) = N(-0.482 + 0.592*x_0, 0.567)\n",
      "[LinearGaussianCPD] P(x_2) = N(-0.097, 0.794)\n",
      "[LinearGaussianCPD] P(x_3 | x_1) = N(-0.136 + -0.816*x_1, 0.393)\n",
      "[LinearGaussianCPD] P(x_4 | x_2) = N(-0.539 + 0.700*x_2, 0.395)\n",
      "[LinearGaussianCPD] P(x_5 | x_3) = N(-0.527 + 0.754*x_3, 0.411)\n",
      "[LinearGaussianCPD] P(x_6 | x_4) = N(-0.549 + 0.640*x_4, 0.400)\n",
      "[LinearGaussianCPD] P(x_7 | x_0, x_5) = N(1.116 + 0.043*x_0 + 1.053*x_5, 0.117)\n",
      "[LinearGaussianCPD] P(x_8 | x_3, x_1, x_4, x_6, x_7) = N(1.331 + 0.099*x_3 + 0.140*x_1 + 0.130*x_4 + 0.339*x_6 + 0.619*x_7, 0.537)\n"
     ]
    }
   ],
   "source": [
    "# ~~~~~~~~ WEAK ARROWS ~~~~~~~~\n",
    "dataset = weak_arrows\n",
    "# With discretization\n",
    "print(\"~~~~~ WITH DISCRETIZATION ~~~~~\")\n",
    "bnlearn_csuite(\n",
    "    csuite_dataset=dataset,\n",
    "    samples=samples_number,\n",
    "    apply_hartemink_discretization=True,\n",
    "    estimate_cpds=True\n",
    ")\n",
    "\n",
    "# Without discretization\n",
    "print(\"\\n\\n\\n~~~~~ WITHOUT DISCRETIZATION ~~~~~\")\n",
    "bnlearn_csuite(\n",
    "    csuite_dataset=dataset,\n",
    "    samples=samples_number,\n",
    "    apply_hartemink_discretization=False,\n",
    "    estimate_cpds=True\n",
    ")"
   ]
  },
  {
   "cell_type": "markdown",
   "id": "3e35e30915c31fe4",
   "metadata": {
    "collapsed": false
   },
   "source": [
    "# 3. Conclusions\n",
    "Regarding the **Sachs dataset**, the adjacency f1 score is higher for the non-discretized solution, but the second one gives a marginally higher orientation f1 score. This may be explained by the fact that a gaussian network was estimated, instead of discrete one (this latter one is not implemented by the library that we used).\n",
    "\n",
    "When evaluating the edges predicted by the solution, it can be observed that we were able to replicate the results from the article. Another common point is the significantly lower orientation score, since the network gives out scores close to 0.5 regarding the orientation (thus being unsure which node is the parent, and which one is the child in a binary relation).\n",
    "\n",
    "\n",
    "-----\n",
    "\n",
    "\n",
    "As for the **synthetic set**, we obtain perfect results with both methods, for the simple graphs, the discretization works better for the graphs that present non-linearities, and the two most complex graphs, large backdoor and weak arrows (that are similar in structure, with the latter graph containing a few extra edges compared to the former one), obtain significantly better results for both f1 scores without discretization, probably due to the fact that all information is preserved.\n",
    "\n",
    "And looking at their CPDs, as expected, the simple models are easily estimated, where gaussian distributions are only lightly altered, but the complex ones also get good information regarding dependency, with a light imprecision when it comes to orientation.\n",
    "\n",
    "Other scores were also tested, but the score from the original solution, bge, gives the best results.\n",
    "\n",
    "Below, there is a comparison of the f1 scores for all datasets, first for undiscretized sets, and then for discretized ones. "
   ]
  },
  {
   "cell_type": "markdown",
   "source": [
    "|                     | **Adjacency f1** | **Orientation f1** |\n",
    "|---------------------|:----------------:|:------------------:|\n",
    "|        **Lingauss** |       1.00       |        1.00        |\n",
    "|          **Linexp** |       1.00       |        1.00        |\n",
    "|     **Nonlingauss** |       1.00       |        1.00        |\n",
    "|  **Nonlin Simpson** |       0.80       |        0.60        |\n",
    "| **Symprod Simpson** |       0.75       |        0.25        |\n",
    "|  **Large Backdoor** |       0.90       |        0.90        |\n",
    "|     **Weak Arrows** |       0.83       |        0.76        |\n",
    "|           **Sachs** |       0.61       |        0.26        |\n",
    "\n",
    "Undiscretized"
   ],
   "metadata": {
    "collapsed": false
   },
   "id": "65b02436c76c00ac"
  },
  {
   "cell_type": "markdown",
   "source": [
    "|                     | **Adjacency f1** | **Orientation f1** |\n",
    "|---------------------|:----------------:|:------------------:|\n",
    "|        **Lingauss** |       1.00       |        1.00        |\n",
    "|          **Linexp** |       1.00       |        1.00        |\n",
    "|     **Nonlingauss** |       1.00       |        1.00        |\n",
    "|  **Nonlin Simpson** |       0.89       |        0.89        |\n",
    "| **Symprod Simpson** |       0.75       |        0.50        |\n",
    "|  **Large Backdoor** |       0.69       |        0.62        |\n",
    "|     **Weak Arrows** |       0.71       |        0.18        |\n",
    "|           **Sachs** |       0.55       |        0.27        |\n",
    "\n",
    "Discretized"
   ],
   "metadata": {
    "collapsed": false
   },
   "id": "487e6277a5fd5fc4"
  }
 ],
 "metadata": {
  "kernelspec": {
   "display_name": "Python 3 (ipykernel)",
   "language": "python",
   "name": "python3"
  },
  "language_info": {
   "codemirror_mode": {
    "name": "ipython",
    "version": 3
   },
   "file_extension": ".py",
   "mimetype": "text/x-python",
   "name": "python",
   "nbconvert_exporter": "python",
   "pygments_lexer": "ipython3",
   "version": "3.10.12"
  }
 },
 "nbformat": 4,
 "nbformat_minor": 5
}
